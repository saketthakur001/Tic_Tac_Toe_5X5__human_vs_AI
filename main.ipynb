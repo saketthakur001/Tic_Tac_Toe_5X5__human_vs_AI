{
 "cells": [
  {
   "cell_type": "code",
   "execution_count": null,
   "metadata": {},
   "outputs": [],
   "source": [
    "\n",
    "def defenddd(board, opponent):\n",
    "    best_moves = []\n",
    "    best_moves2 = []\n",
    "    pos_list = opponent_moves(board, opponent)\n",
    "\n",
    "    for win_pattern in possible_wins(): # check if the opponent moves are on the list of possible_wins\n",
    "        four_to_win = 0\n",
    "        x_times_in_pos_list = 0\n",
    "        for i in win_pattern:\n",
    "            if i in pos_list:\n",
    "                x_times_in_pos_list += 1\n",
    "        if x_times_in_pos_list >= 1:\n",
    "            for i in win_pattern:\n",
    "                if not board[i].isalpha():\n",
    "                    if i in best_places_ordered:\n",
    "                        if i not in best_moves:\n",
    "                            best_moves.append(i)\n",
    "                    elif i not in best_moves and i not in best_moves2:\n",
    "                        best_moves2.append(i)\n",
    "    return best_moves, best_moves2"
   ]
  }
 ],
 "metadata": {
  "language_info": {
   "name": "python"
  },
  "orig_nbformat": 4
 },
 "nbformat": 4,
 "nbformat_minor": 2
}
